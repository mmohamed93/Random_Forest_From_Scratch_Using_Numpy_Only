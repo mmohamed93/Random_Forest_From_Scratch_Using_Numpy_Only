{
 "cells": [
  {
   "cell_type": "code",
   "execution_count": 1,
   "metadata": {},
   "outputs": [],
   "source": [
    "import numpy as np\n",
    "import pandas as pd\n",
    "import math\n",
    "%matplotlib inline\n",
    "from fastai.imports import *\n",
    "from fastai.structured import *\n",
    "from sklearn.ensemble import RandomForestRegressor, RandomForestClassifier\n",
    "from IPython.display import display\n",
    "from sklearn import metrics"
   ]
  },
  {
   "cell_type": "code",
   "execution_count": 40,
   "metadata": {},
   "outputs": [],
   "source": [
    "class TreeEnsemble():\n",
    "    def __init__(self,x,y,n_trees,sample_sz,min_leaf=5, bootstrap = False, random_state = None, max_features = 1):\n",
    "        #the seed will be set for a constant for now to be able to compare with sklearn tree\n",
    "        if random_state != None:\n",
    "            np.random.seed(random_state)\n",
    "        self.x,self.y,self.sample_sz,self.min_leaf,self.bootstrap, = x,y,sample_sz,min_leaf,bootstrap\n",
    "        self.max_features = max_features\n",
    "        #here we create trees by calling a function create tree for the required number of trees\n",
    "        self.trees = [self.create_tree() for i in range(n_trees)]\n",
    "    def create_tree(self):\n",
    "        if self.bootstrap == True:\n",
    "            idxs = []\n",
    "            for i in range(self.sample_sz):\n",
    "                idxs.append(np.random.randint(0,len(self.y)))\n",
    "            idxs = np.array(idxs)\n",
    "        else:\n",
    "            idxs = np.random.permutation(len(self.y))[:self.sample_sz]\n",
    "        #iloc[row,column] or iloc[[list of rows],[list of columns]] .. columns are optional \n",
    "        return DecisionTree(self.x.iloc[idxs],self.y[idxs],min_leaf = self.min_leaf, max_features = self.max_features)\n",
    "#         return idxs\n",
    "    def predict(self,x):\n",
    "        #the below is not a recursive function the predict below will be done for a decision tree\n",
    "        #we will calculate the prediction of each tree for given x (features) and average using np.mean\n",
    "        #axis = 0 will return the average of matrix rows\n",
    "        return np.mean([tree.predict(x) for tree in self.trees],axis = 0)\n",
    "    @property\n",
    "    def _feature_importance(self):\n",
    "        fi = []\n",
    "        for i in range(self.x.shape[1]):\n",
    "            shuf = self.x.iloc[:,i].copy()\n",
    "            self.x.iloc[:,i] = np.random.permutation(self.x.iloc[:,i])\n",
    "            fi.append(rmse(self.predict(self.x.values),self.y))\n",
    "            self.x.iloc[:,i] = shuf\n",
    "        return np.array(fi)"
   ]
  },
  {
   "cell_type": "code",
   "execution_count": 41,
   "metadata": {},
   "outputs": [],
   "source": [
    "class DecisionTree():\n",
    "    #the indices are there to keep track of which of the row indixes went to the left and the right side of the tree\n",
    "    def __init__ (self,x,y,idxs = None,min_leaf = 5, max_features = 1):\n",
    "        # y passed to the decision tree will be the random selection of the treeensemble\n",
    "        if idxs is None: idxs = np.arange(len(y))\n",
    "        self.x, self.y, self.idxs, self.min_leaf = x,y,idxs,min_leaf\n",
    "        # we need to keep track of the number of rows and number of columns\n",
    "        self.n,self.c = len(idxs), x.shape[1]\n",
    "        self.max_features = max_features\n",
    "        #every node of the tree will have a value(prediction) which is equal to the mean of the node indexes\n",
    "        self.val = np.mean(y[idxs])\n",
    "        #some nodes of the tree will have a score which is how effective is the split only if it is not a LEAF NODE\n",
    "        #at the begining we have not created any splits yet so the score will be infinity\n",
    "        self.score = float('inf')\n",
    "        #the next step is to determine which variable we will split on and what level we will split on\n",
    "        self.find_varsplit()\n",
    "        \n",
    "    def find_varsplit(self):\n",
    "        # max features will be a number from 0 to 1 randomly select a ratio of the columns to look for the next split\n",
    "        #we will create a random list of all columns indexes and return only the ratio determined by max_features\n",
    "        for i in np.random.permutation(range(self.c))[:int(self.max_features*self.c)]:\n",
    "            self.find_better_split(i)\n",
    "        if self.is_leaf: return\n",
    "        x = self.split_col\n",
    "        lhs = np.nonzero(x<=self.split)[0]\n",
    "        rhs = np.nonzero(x>self.split)[0]\n",
    "        self.lhs = DecisionTree(self.x,self.y,self.idxs[lhs])\n",
    "        self.rhs = DecisionTree(self.x,self.y,self.idxs[rhs])\n",
    "\n",
    "    #another method to calculate the standard deviation is square root of (the mean of squares minues square of the mean)\n",
    "    #the function takes the count to calculate the means, sum of values and sum of squared values.\n",
    "#     def std_agg(cnt,s1,s2): return math.sqrt((s2/cnt)  - (s1/cnt)**2)\n",
    "    \n",
    "    def find_better_split(self,var_idx):\n",
    "        #x will be all the value in a specific column at certain indexes (when the tree splits the indexes will change so\n",
    "        #we need to mark the idexes for the next split\n",
    "        #y is the value of the indexes\n",
    "        \n",
    "        x,y = self.x.values[self.idxs,var_idx],self.y[self.idxs]\n",
    "        \n",
    "        #we will sort all the values based on X\n",
    "        sort_idx = np.argsort(x)\n",
    "        #create a sorted x and y based on the sorting indexes from argsort\n",
    "        x_sorted,y_sorted = x[sort_idx],y[sort_idx]\n",
    "        #the RHS will be initialzed with all value (count, sums and sums squares)\n",
    "        rhs_cnt,rhs_sum,rhs_sum2 = self.n, y_sorted.sum(),(y_sorted**2).sum()\n",
    "        #the LHS will be empty and we will start moving a value one by one and caluclate the standard deviation\n",
    "        lhs_cnt,lhs_sum,lhs_sum2 = 0,0.,0.\n",
    "        \n",
    "        #now we will loop through each index in x up to the min leaf (to avoid having values less than min leaf in a side)\n",
    "        \n",
    "        for i in range(0,self.n-self.min_leaf-1):\n",
    "            xi , yi = x_sorted[i],y_sorted[i]\n",
    "            lhs_cnt +=1 ; rhs_cnt -=1\n",
    "            lhs_sum += yi; rhs_sum -=yi\n",
    "            lhs_sum2 += yi**2 ; rhs_sum2 -= yi**2\n",
    "            \n",
    "            # we have to check that i is more than min sample leaf (to avoid having values less than min leaf in a side)\n",
    "            #we also have to check that the next index is not equal to include every similar number in each trial\n",
    "            if i<self.min_leaf or xi == x_sorted[i+1]: continue\n",
    "            \n",
    "            #now we will calculate the std for each split trial\n",
    "            \n",
    "            lhs_std = std_agg(lhs_cnt,lhs_sum,lhs_sum2); rhs_std = std_agg(rhs_cnt,rhs_sum,rhs_sum2)\n",
    "            \n",
    "            #now we will calculate the weighted average std of RHS and LHS and compare to the best available split score\n",
    "            \n",
    "            curr_score = lhs_std*lhs_cnt + rhs_std*rhs_cnt\n",
    "            \n",
    "            if curr_score<self.score:\n",
    "                self.var_idx,self.score,self.split = var_idx,curr_score, xi\n",
    "            \n",
    "    @property\n",
    "    def split_name(self): return self.x.columns[self.var_idx]\n",
    "    \n",
    "    @property\n",
    "    def split_col(self): return self.x.values[self.idxs,self.var_idx]\n",
    "    \n",
    "    @property\n",
    "    def is_leaf(self): return self.score == float('inf')\n",
    "    \n",
    "    def __repr__(self):\n",
    "        s = f'n: {self.n}; val: {self.val}'\n",
    "        if not self.is_leaf:\n",
    "            s += f'; score:{self.score}; split:{self.split}; var:{self.split_name}'\n",
    "        return s\n",
    "    \n",
    "    def predict(self, x):\n",
    "        return np.array([self.predict_row(xi) for xi in x])\n",
    "\n",
    "    def predict_row(self, xi):\n",
    "        if self.is_leaf: return self.val\n",
    "        t = self.lhs if xi[self.var_idx]<=self.split else self.rhs\n",
    "        return t.predict_row(xi)"
   ]
  },
  {
   "cell_type": "code",
   "execution_count": 42,
   "metadata": {},
   "outputs": [],
   "source": [
    "def std_agg(cnt,s1,s2): return math.sqrt((s2/cnt)  - (s1/cnt)**2)\n",
    "def rmse(x,y): return math.sqrt(((x-y)**2).mean())"
   ]
  },
  {
   "cell_type": "code",
   "execution_count": 43,
   "metadata": {},
   "outputs": [],
   "source": [
    "PATH = \"data/bulldozers/\"\n",
    "\n",
    "df_raw = pd.read_feather('bulldozers-raw')\n",
    "df_trn, y_trn, nas = proc_df(df_raw, 'SalePrice')"
   ]
  },
  {
   "cell_type": "code",
   "execution_count": 44,
   "metadata": {},
   "outputs": [],
   "source": [
    "def split_vals(a,n): return a[:n], a[n:]\n",
    "n_valid = 12000\n",
    "n_trn = len(df_trn)-n_valid\n",
    "X_train, X_valid = split_vals(df_trn, n_trn)\n",
    "y_train, y_valid = split_vals(y_trn, n_trn)\n",
    "raw_train, raw_valid = split_vals(df_raw, n_trn)"
   ]
  },
  {
   "cell_type": "code",
   "execution_count": 45,
   "metadata": {},
   "outputs": [],
   "source": [
    "cols = ['MachineID', 'YearMade', 'MachineHoursCurrentMeter', 'ProductSize', 'Enclosure',\n",
    "        'Coupler_System', 'saleYear']"
   ]
  },
  {
   "cell_type": "code",
   "execution_count": 46,
   "metadata": {
    "scrolled": true
   },
   "outputs": [
    {
     "name": "stdout",
     "output_type": "stream",
     "text": [
      "Wall time: 1.42 s\n"
     ]
    }
   ],
   "source": [
    "%time tree = TreeEnsemble(X_train[cols], y_train, 5, 1000,random_state=42,bootstrap=True,max_features=0.7, min_leaf=1)"
   ]
  },
  {
   "cell_type": "code",
   "execution_count": 50,
   "metadata": {},
   "outputs": [],
   "source": [
    "t = tree._feature_importance"
   ]
  },
  {
   "cell_type": "code",
   "execution_count": 60,
   "metadata": {},
   "outputs": [
    {
     "data": {
      "text/plain": [
       "array([0.42732, 0.62374, 0.41404, 0.59497, 0.47998, 0.55549, 0.46935])"
      ]
     },
     "execution_count": 60,
     "metadata": {},
     "output_type": "execute_result"
    }
   ],
   "source": [
    "t"
   ]
  },
  {
   "cell_type": "code",
   "execution_count": 77,
   "metadata": {},
   "outputs": [
    {
     "data": {
      "text/plain": [
       "17.824507886915626"
      ]
     },
     "execution_count": 77,
     "metadata": {},
     "output_type": "execute_result"
    }
   ],
   "source": [
    "total = t.sum();total"
   ]
  },
  {
   "cell_type": "code",
   "execution_count": 79,
   "metadata": {},
   "outputs": [
    {
     "name": "stdout",
     "output_type": "stream",
     "text": [
      "0.1198694189259907\n",
      "0.17496626829856407\n",
      "0.11614296517601605\n",
      "0.16689791486172398\n",
      "0.13464093171789607\n",
      "0.15582336491582904\n",
      "0.13165913610398\n"
     ]
    }
   ],
   "source": [
    "for i in t:\n",
    "    print(i/total)"
   ]
  },
  {
   "cell_type": "code",
   "execution_count": 76,
   "metadata": {},
   "outputs": [
    {
     "data": {
      "text/plain": [
       "array([0.15248, 0.24406, 0.01905, 0.20356, 0.0577 , 0.20396, 0.11919])"
      ]
     },
     "execution_count": 76,
     "metadata": {},
     "output_type": "execute_result"
    }
   ],
   "source": [
    "m.feature_importances_"
   ]
  },
  {
   "cell_type": "code",
   "execution_count": 48,
   "metadata": {
    "scrolled": false
   },
   "outputs": [
    {
     "name": "stdout",
     "output_type": "stream",
     "text": [
      "Wall time: 505 ms\n"
     ]
    }
   ],
   "source": [
    "%time preds = tree.predict(X_valid[cols].values)"
   ]
  },
  {
   "cell_type": "code",
   "execution_count": 780,
   "metadata": {},
   "outputs": [
    {
     "data": {
      "text/plain": [
       "0.712003540865145"
      ]
     },
     "execution_count": 780,
     "metadata": {},
     "output_type": "execute_result"
    }
   ],
   "source": [
    "metrics.r2_score(y_valid, preds)"
   ]
  },
  {
   "cell_type": "code",
   "execution_count": 54,
   "metadata": {},
   "outputs": [
    {
     "data": {
      "text/plain": [
       "Index(['MachineID', 'YearMade', 'MachineHoursCurrentMeter', 'ProductSize',\n",
       "       'Enclosure', 'Coupler_System', 'saleYear'],\n",
       "      dtype='object')"
      ]
     },
     "execution_count": 54,
     "metadata": {},
     "output_type": "execute_result"
    }
   ],
   "source": [
    "ens = TreeEnsemble(X_train[cols], y_train, n_trees= 5, sample_sz = 1000, random_state=42)\n",
    "tree = ens.trees[0]\n",
    "x_samp,y_samp = tree.x, tree.y\n",
    "x_samp.columns"
   ]
  },
  {
   "cell_type": "code",
   "execution_count": 70,
   "metadata": {},
   "outputs": [],
   "source": [
    "from mlsupportmm import set_rf_samples , reset_rf_samples"
   ]
  },
  {
   "cell_type": "code",
   "execution_count": 71,
   "metadata": {},
   "outputs": [],
   "source": [
    "set_rf_samples(1000)"
   ]
  },
  {
   "cell_type": "code",
   "execution_count": 74,
   "metadata": {},
   "outputs": [
    {
     "data": {
      "text/plain": [
       "RandomForestRegressor(bootstrap=True, criterion='mse', max_depth=None,\n",
       "                      max_features='auto', max_leaf_nodes=None,\n",
       "                      min_impurity_decrease=0.0, min_impurity_split=None,\n",
       "                      min_samples_leaf=1, min_samples_split=2,\n",
       "                      min_weight_fraction_leaf=0.0, n_estimators=5, n_jobs=None,\n",
       "                      oob_score=False, random_state=42, verbose=0,\n",
       "                      warm_start=False)"
      ]
     },
     "execution_count": 74,
     "metadata": {},
     "output_type": "execute_result"
    }
   ],
   "source": [
    "m = RandomForestRegressor(n_estimators=5, bootstrap=True, random_state = 42)\n",
    "m.fit(X_train[cols], y_train)\n",
    "# draw_tree(m.estimators_[0], x_samp, precision=2)\n"
   ]
  },
  {
   "cell_type": "code",
   "execution_count": 75,
   "metadata": {},
   "outputs": [
    {
     "data": {
      "text/plain": [
       "array([0.15248, 0.24406, 0.01905, 0.20356, 0.0577 , 0.20396, 0.11919])"
      ]
     },
     "execution_count": 75,
     "metadata": {},
     "output_type": "execute_result"
    }
   ],
   "source": [
    "m.feature_importances_"
   ]
  },
  {
   "cell_type": "code",
   "execution_count": 469,
   "metadata": {},
   "outputs": [
    {
     "data": {
      "text/plain": [
       "n: 1000; val: 10.079014121552744; score:658.5510186055565; split:1974.0; var:YearMade"
      ]
     },
     "execution_count": 469,
     "metadata": {},
     "output_type": "execute_result"
    }
   ],
   "source": [
    "ens.trees[0]"
   ]
  },
  {
   "cell_type": "code",
   "execution_count": null,
   "metadata": {},
   "outputs": [],
   "source": [
    "np.nonzero()"
   ]
  },
  {
   "cell_type": "code",
   "execution_count": 335,
   "metadata": {},
   "outputs": [],
   "source": [
    "testset  = [1,5,6,2,4]"
   ]
  },
  {
   "cell_type": "code",
   "execution_count": 337,
   "metadata": {},
   "outputs": [],
   "source": [
    "srt = np.argsort(testset)"
   ]
  },
  {
   "cell_type": "code",
   "execution_count": 339,
   "metadata": {},
   "outputs": [
    {
     "data": {
      "text/plain": [
       "array([0, 3, 4, 1, 2], dtype=int64)"
      ]
     },
     "execution_count": 339,
     "metadata": {},
     "output_type": "execute_result"
    }
   ],
   "source": [
    "srt"
   ]
  },
  {
   "cell_type": "code",
   "execution_count": 340,
   "metadata": {},
   "outputs": [
    {
     "data": {
      "text/plain": [
       "array([1, 2, 4, 5, 6])"
      ]
     },
     "execution_count": 340,
     "metadata": {},
     "output_type": "execute_result"
    }
   ],
   "source": [
    "np.array(testset)[srt]"
   ]
  },
  {
   "cell_type": "code",
   "execution_count": 321,
   "metadata": {},
   "outputs": [],
   "source": [
    "boston = datasets.load_boston()"
   ]
  },
  {
   "cell_type": "code",
   "execution_count": 322,
   "metadata": {},
   "outputs": [],
   "source": [
    "df = pd.DataFrame(data = boston.data ,columns = boston.feature_names)"
   ]
  },
  {
   "cell_type": "code",
   "execution_count": 323,
   "metadata": {},
   "outputs": [],
   "source": [
    "X = df.drop('LSTAT',1)\n",
    "y = df.LSTAT"
   ]
  },
  {
   "cell_type": "code",
   "execution_count": 324,
   "metadata": {},
   "outputs": [
    {
     "name": "stderr",
     "output_type": "stream",
     "text": [
      "C:\\ProgramData\\Anaconda3\\lib\\site-packages\\pandas\\core\\series.py:1143: FutureWarning: \n",
      "Passing list-likes to .loc or [] with any missing label will raise\n",
      "KeyError in the future, you can use .reindex() as an alternative.\n",
      "\n",
      "See the documentation here:\n",
      "https://pandas.pydata.org/pandas-docs/stable/user_guide/indexing.html#deprecate-loc-reindex-listlike\n",
      "  return self.loc[key]\n"
     ]
    }
   ],
   "source": [
    "m = TreeEnsemble(X,y,10,100)"
   ]
  },
  {
   "cell_type": "code",
   "execution_count": 334,
   "metadata": {},
   "outputs": [
    {
     "data": {
      "text/plain": [
       "array([False,  True,  True, False, False, False,  True,  True,  True,\n",
       "        True,  True,  True,  True,  True,  True,  True,  True,  True,\n",
       "        True,  True,  True,  True,  True,  True,  True,  True,  True,\n",
       "        True,  True,  True,  True,  True,  True,  True,  True,  True,\n",
       "        True,  True,  True,  True,  True,  True,  True,  True,  True,\n",
       "        True,  True,  True,  True,  True,  True,  True,  True,  True,\n",
       "        True, False, False, False,  True,  True,  True,  True,  True,\n",
       "        True, False,  True,  True,  True,  True,  True,  True,  True,\n",
       "        True,  True,  True,  True,  True,  True,  True,  True,  True,\n",
       "        True,  True,  True,  True,  True,  True,  True,  True,  True,\n",
       "        True,  True,  True,  True,  True,  True,  True,  True,  True,\n",
       "        True])"
      ]
     },
     "execution_count": 334,
     "metadata": {},
     "output_type": "execute_result"
    }
   ],
   "source": [
    "x = X.values[:100,2]\n",
    "\n",
    "xi = 2.31\n",
    "\n",
    "x = x>xi;x\n"
   ]
  },
  {
   "cell_type": "code",
   "execution_count": 325,
   "metadata": {},
   "outputs": [
    {
     "data": {
      "text/plain": [
       "n: 100; val: 10.874782608695652"
      ]
     },
     "execution_count": 325,
     "metadata": {},
     "output_type": "execute_result"
    }
   ],
   "source": [
    "m.trees[0]"
   ]
  },
  {
   "cell_type": "code",
   "execution_count": 193,
   "metadata": {},
   "outputs": [
    {
     "data": {
      "text/plain": [
       "array([459, 247, 360, 399, 388, 352, 300, 497, 171, 261, 446,  18,  77,\n",
       "        99, 274, 382, 156,  13, 471,  23, 158, 196, 174,  32, 447, 392,\n",
       "       231, 316,  15, 409, 344, 172,  40, 427, 256, 435, 303, 271, 491,\n",
       "        73,  21, 395, 227,  91, 259, 120, 346, 239,  68, 335, 273, 243,\n",
       "       472, 161, 122, 310, 240, 123, 153, 370, 213,  50, 389,  79, 481,\n",
       "       260, 381, 503, 192, 194, 145, 384, 134, 251,  60, 282, 286, 141,\n",
       "       366, 193, 132, 425,  22,  90, 323, 375, 121,  69, 466, 182, 403,\n",
       "       140,  45,  78, 266, 152, 169, 474,  61, 483])"
      ]
     },
     "execution_count": 193,
     "metadata": {},
     "output_type": "execute_result"
    }
   ],
   "source": [
    "m.create_tree()"
   ]
  },
  {
   "cell_type": "code",
   "execution_count": 209,
   "metadata": {},
   "outputs": [
    {
     "data": {
      "text/plain": [
       "100"
      ]
     },
     "execution_count": 209,
     "metadata": {},
     "output_type": "execute_result"
    }
   ],
   "source": [
    "len(m.create_tree())"
   ]
  },
  {
   "cell_type": "code",
   "execution_count": 314,
   "metadata": {},
   "outputs": [],
   "source": [
    "m = TreeEnsemble(X,y,10,100,bootstrap = True, random_state=42)"
   ]
  },
  {
   "cell_type": "code",
   "execution_count": 315,
   "metadata": {
    "scrolled": true
   },
   "outputs": [],
   "source": [
    "try1 = m.create_tree()"
   ]
  },
  {
   "cell_type": "code",
   "execution_count": 317,
   "metadata": {},
   "outputs": [
    {
     "data": {
      "text/plain": [
       "array([ 0,  1,  2,  3,  4,  5,  6,  7,  8,  9, 10, 11, 12, 13, 14, 15, 16,\n",
       "       17, 18, 19, 20, 21, 22, 23, 24, 25, 26, 27, 28, 29, 30, 31, 32, 33,\n",
       "       34, 35, 36, 37, 38, 39, 40, 41, 42, 43, 44, 45, 46, 47, 48, 49, 50,\n",
       "       51, 52, 53, 54, 55, 56, 57, 58, 59, 60, 61, 62, 63, 64, 65, 66, 67,\n",
       "       68, 69, 70, 71, 72, 73, 74, 75, 76, 77, 78, 79, 80, 81, 82, 83, 84,\n",
       "       85, 86, 87, 88, 89, 90, 91, 92, 93, 94, 95, 96, 97, 98, 99])"
      ]
     },
     "execution_count": 317,
     "metadata": {},
     "output_type": "execute_result"
    }
   ],
   "source": []
  },
  {
   "cell_type": "code",
   "execution_count": 208,
   "metadata": {},
   "outputs": [
    {
     "data": {
      "text/plain": [
       "94"
      ]
     },
     "execution_count": 208,
     "metadata": {},
     "output_type": "execute_result"
    }
   ],
   "source": [
    "len(set(try1))"
   ]
  },
  {
   "cell_type": "code",
   "execution_count": 156,
   "metadata": {},
   "outputs": [
    {
     "data": {
      "text/plain": [
       "array([ 43, 136, 420,  73,  35, 100, 475, 155, 425, 254, 170, 468, 215,\n",
       "       169, 251, 359, 321,  54, 455, 431,  90, 277, 100, 154, 376, 348,\n",
       "       450, 363, 140, 172,   9, 227, 264, 437, 247, 246, 154,  33, 498,\n",
       "       128, 159,  88,  92, 326, 240, 322, 467, 403, 116,  93, 162,  98,\n",
       "       112, 358,  90, 345, 205,  16, 273, 172, 115, 348, 467, 180,  90,\n",
       "        81, 323, 448, 113, 256,  57, 153, 364, 403, 115, 342, 265, 314,\n",
       "       202,  40, 104, 388, 377, 192, 400, 277, 353, 503, 236, 424, 220,\n",
       "        67, 196, 255, 138, 311, 434, 148,  98,  75, 281, 370, 402, 108,\n",
       "       187, 198, 302, 502, 326, 153,  39, 132, 404, 461, 131, 278, 361,\n",
       "        83, 398, 241, 115, 108, 220, 391,  40, 367, 146, 111, 102,  45,\n",
       "       411, 493, 504, 474, 323, 377, 270, 482, 420, 384, 194, 366, 279,\n",
       "       282,  39, 446, 188, 163, 481, 476,  23,  23, 489,   3, 322, 289,\n",
       "       440, 432, 470, 180, 247, 115, 278, 364,  68, 350, 253, 180, 317,\n",
       "       168, 312, 248, 187,  53, 325, 356, 312, 137, 167, 390, 102, 421,\n",
       "        84, 316, 211,   2, 383, 178, 341, 302, 451, 475, 331,  37, 498,\n",
       "       419, 238, 168, 452, 396, 342, 313, 305,  29, 189, 356,  24, 111,\n",
       "       410, 434, 205, 184, 381, 495, 378,  46, 373, 227,  38,  15, 503,\n",
       "        21, 212, 309, 148, 455, 240, 271,  58, 502, 286, 425, 201,  31,\n",
       "       442, 161, 254, 253,   8, 464, 138, 479,   9, 213, 504, 272, 323,\n",
       "        47, 435, 110, 152, 122, 404, 356, 101, 240, 320, 190, 216,  50,\n",
       "       291,  80, 488, 382,  87, 193, 103, 270,  95, 422, 378, 197,   0,\n",
       "       494, 406, 377, 166, 125, 312,  80, 417, 250, 168, 476,  72, 140,\n",
       "        69, 261, 339, 307, 244,   2, 336,  62,  48,  75, 367, 174, 108,\n",
       "       182, 191,  64, 336, 450, 473, 270,  99,  31, 351, 127, 451, 401,\n",
       "       368, 338,  42, 371, 418, 487,  77, 313, 288, 269, 161, 188, 246,\n",
       "       387, 215, 314, 412, 338, 389, 376, 480, 432, 167, 338, 500, 192,\n",
       "       452, 282, 335, 389, 487,  12, 239, 319, 445, 482, 146, 203,  79,\n",
       "       378,  42, 457,  88, 147,  94, 451, 427, 150,   1, 375,  21, 370,\n",
       "       312, 484, 327,   6, 205, 439, 374, 450, 113, 271, 502,  82, 178,\n",
       "       209, 499, 463, 327, 123, 480, 112,  11, 125,  52, 330, 388, 282,\n",
       "       139, 400, 389,  96,   4,  56, 411, 333,  68, 117, 375,  58,  32,\n",
       "       317,  49, 367, 488,  18, 213, 196, 378, 449, 477,  46, 166, 451,\n",
       "       288, 140,  83, 181, 390,  78, 214,  13, 214, 402, 127, 309, 476,\n",
       "       247, 403,  28, 279, 337, 318, 201, 360,  56, 391, 217,  61, 156,\n",
       "       201,  16, 321,   5,  57, 324, 411, 317, 168, 452,  81, 473, 467,\n",
       "       424, 432, 218, 176, 203,  70, 386, 265,  97, 344, 290, 207,   1,\n",
       "       123, 279,  73, 165,  21, 153, 426, 438, 294, 218, 156, 494, 229,\n",
       "        19, 474,  40, 437, 147, 107, 402,  83, 482, 366, 321, 413, 308,\n",
       "       289, 405, 322, 133, 206, 282, 265,  72, 480, 351,  47, 325])"
      ]
     },
     "execution_count": 156,
     "metadata": {},
     "output_type": "execute_result"
    }
   ],
   "source": [
    "m.create_tree()"
   ]
  },
  {
   "cell_type": "code",
   "execution_count": 212,
   "metadata": {},
   "outputs": [
    {
     "data": {
      "text/plain": [
       "array([126, 207, 298, 415, 232,  48, 433, 330, 412, 134, 432, 236, 396,\n",
       "       208, 241, 446, 296,  93, 465, 406, 381, 435, 161, 502, 127, 256,\n",
       "       410, 202, 150,  42, 319, 496,  29, 386, 462, 397, 326, 442,  75,\n",
       "       417,   9, 391,  84, 254, 471, 360,  82, 457, 447, 453, 437, 120,\n",
       "       458,  50, 340, 305, 331,  40,  65, 333, 178, 312, 210, 203, 324,\n",
       "       195, 368, 109, 131, 237, 316, 430, 253, 179,  86, 416, 479, 407,\n",
       "       156, 320,  77, 264, 341,  94, 439, 211, 213, 111, 173, 428, 343,\n",
       "       262,  70, 183, 380, 105, 313,   7,  52, 499])"
      ]
     },
     "execution_count": 212,
     "metadata": {},
     "output_type": "execute_result"
    }
   ],
   "source": [
    "inds = np.random.permutation(len(y))[:100]; inds"
   ]
  },
  {
   "cell_type": "code",
   "execution_count": null,
   "metadata": {},
   "outputs": [],
   "source": [
    "#iloc[row,column] or iloc[[list of rows],[list of columns]] .. columns are optional "
   ]
  },
  {
   "cell_type": "code",
   "execution_count": 127,
   "metadata": {},
   "outputs": [],
   "source": [
    "from sklearn.ensemble import RandomForestRegressor"
   ]
  },
  {
   "cell_type": "code",
   "execution_count": 129,
   "metadata": {},
   "outputs": [],
   "source": [
    "??RandomForestRegressor"
   ]
  },
  {
   "cell_type": "code",
   "execution_count": 218,
   "metadata": {},
   "outputs": [
    {
     "name": "stdout",
     "output_type": "stream",
     "text": [
      "0\n",
      "5\n",
      "9\n",
      "1\n",
      "3\n",
      "2\n",
      "8\n",
      "4\n",
      "6\n",
      "7\n"
     ]
    }
   ],
   "source": [
    "for i in np.random.permutation(range(10))[:int(1*len(range(10)))]:\n",
    "    print(i)"
   ]
  },
  {
   "cell_type": "code",
   "execution_count": 302,
   "metadata": {},
   "outputs": [],
   "source": [
    "ids = np.arange((len(y)))"
   ]
  },
  {
   "cell_type": "code",
   "execution_count": 303,
   "metadata": {},
   "outputs": [
    {
     "data": {
      "text/plain": [
       "12.653063241106723"
      ]
     },
     "execution_count": 303,
     "metadata": {},
     "output_type": "execute_result"
    }
   ],
   "source": [
    "np.mean(y[ids])"
   ]
  },
  {
   "cell_type": "code",
   "execution_count": null,
   "metadata": {},
   "outputs": [],
   "source": []
  }
 ],
 "metadata": {
  "kernelspec": {
   "display_name": "Python 3",
   "language": "python",
   "name": "python3"
  },
  "language_info": {
   "codemirror_mode": {
    "name": "ipython",
    "version": 3
   },
   "file_extension": ".py",
   "mimetype": "text/x-python",
   "name": "python",
   "nbconvert_exporter": "python",
   "pygments_lexer": "ipython3",
   "version": "3.7.4"
  }
 },
 "nbformat": 4,
 "nbformat_minor": 2
}
